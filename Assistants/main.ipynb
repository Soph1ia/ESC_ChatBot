{
 "cells": [
  {
   "cell_type": "markdown",
   "metadata": {},
   "source": [
    "# Notebook to manually run through the environmental chatbot"
   ]
  },
  {
   "cell_type": "code",
   "execution_count": 3,
   "metadata": {},
   "outputs": [],
   "source": [
    "#!pip install openai"
   ]
  },
  {
   "cell_type": "code",
   "execution_count": 4,
   "metadata": {},
   "outputs": [],
   "source": [
    "from openai import OpenAI\n",
    "import json \n",
    "import time "
   ]
  },
  {
   "cell_type": "markdown",
   "metadata": {},
   "source": [
    "## Upload the Files we found to Vector Store "
   ]
  },
  {
   "cell_type": "code",
   "execution_count": null,
   "metadata": {},
   "outputs": [],
   "source": [
    "# enter api key here\n"
   ]
  },
  {
   "cell_type": "code",
   "execution_count": null,
   "metadata": {},
   "outputs": [],
   "source": [
    "# find the files to upload  \n",
    "file_paths = [\n",
    "    # Enter the file path here\n",
    "]\n",
    "\n",
    "file_ids = []\n",
    "\n",
    "for file_name in file_paths: \n",
    "    file_data = client.files.create( file=open(file_name, \"rb\"), purpose='assistants')\n",
    "\n",
    "    # add file id to list of file ids\n",
    "    file_ids.append(file_data.id)"
   ]
  },
  {
   "cell_type": "markdown",
   "metadata": {},
   "source": [
    "## Vectorize the File systems "
   ]
  },
  {
   "cell_type": "code",
   "execution_count": null,
   "metadata": {},
   "outputs": [],
   "source": [
    "vector_store = client.beta.vector_stores.create(name=\"travel-assistant-vectors\")\n",
    "\n",
    "# find the files to upload  \n",
    "file_paths = [\n",
    "    # Enter the file paths here\n",
    "]\n",
    "\n",
    "file_streams = [open(file_path, \"rb\") for file_path in file_paths]\n",
    "\n",
    "file_batch = client.beta.vector_stores.file_batches.upload_and_poll(\n",
    "    vector_store_id=vector_store.id,\n",
    "    files=file_streams\n",
    ")\n",
    "\n",
    "# Print the status and the file counts of the batch to see the result of this operation \n",
    "print(file_batch.status)"
   ]
  },
  {
   "cell_type": "markdown",
   "metadata": {},
   "source": [
    "# Create the OpenAI Assistants Chatbot "
   ]
  },
  {
   "cell_type": "code",
   "execution_count": 6,
   "metadata": {},
   "outputs": [],
   "source": [
    "instructions = \"You are an environment specialist. You can only talk about environmental issues, carbon emsissions, water waste, everything weather related. You can give advice. You are able to provide statistics about the environment\""
   ]
  },
  {
   "cell_type": "code",
   "execution_count": 7,
   "metadata": {},
   "outputs": [],
   "source": [
    "client = OpenAI(organization=\"\", api_key=\"\")\n",
    "\n",
    "assistant = client.beta.assistants.create(\n",
    "  name=\"The Environmental Specialists Chatbot\",\n",
    "  instructions=instructions,\n",
    "  model=\"gpt-3.5-turbo\"\n",
    ")\n",
    "\n",
    "assistant_id = assistant.id"
   ]
  },
  {
   "cell_type": "markdown",
   "metadata": {},
   "source": [
    "# Functions \n",
    "- Carbon emission calculator for businesses "
   ]
  },
  {
   "cell_type": "code",
   "execution_count": null,
   "metadata": {},
   "outputs": [],
   "source": [
    "function_get_carbon_emission_calculator =  {\n",
    "  \"name\": \"get_carbon_emission_percentage\",\n",
    "  \"description\": \"Determine the emission of carbon of a business\",\n",
    "  \"parameters\": {\n",
    "    \"type\": \"object\",\n",
    "    \"properties\": {\n",
    "      \"location\": {\n",
    "        \"type\": \"string\",\n",
    "        \"description\": \">>>> TODO what is the api request\"\n",
    "      },\n",
    "      \"unit\": {\n",
    "        \"type\": \"string\",\n",
    "        \"enum\": [\n",
    "          \"c\",\n",
    "          \"f\"\n",
    "        ]\n",
    "      }\n",
    "    },\n",
    "    \"required\": [\n",
    "      \"location\"\n",
    "    ]\n",
    "  }\n",
    "}"
   ]
  },
  {
   "cell_type": "markdown",
   "metadata": {},
   "source": [
    "### Handle the API Method "
   ]
  },
  {
   "cell_type": "code",
   "execution_count": 10,
   "metadata": {},
   "outputs": [],
   "source": [
    "#!pip install requests"
   ]
  },
  {
   "cell_type": "code",
   "execution_count": 1,
   "metadata": {},
   "outputs": [],
   "source": [
    "# api key \n",
    "import requests\n",
    "\n",
    "# Test1 api key\n",
    "CLIMATIQ_API_KEY = 'N32NP4ZAH84S7FJ3WS3RJM0PXFC1'\n"
   ]
  },
  {
   "cell_type": "code",
   "execution_count": null,
   "metadata": {},
   "outputs": [],
   "source": [
    "def get_carbon_emission_calculator(energy_kwh): \n",
    "\n",
    "    # Define the endpoint URL\n",
    "    url = 'https://api.climatiq.io/data/v1/estimate'\n",
    "\n",
    "    # Define the headers\n",
    "    headers = {\n",
    "        'Authorization': f'Bearer {CLIMATIQ_API_KEY}',\n",
    "        'Content-Type': 'application/json'\n",
    "    }\n",
    "\n",
    "    # Define the data payload\n",
    "    data = {\n",
    "        \"emission_factor\": {\n",
    "            \"activity_id\": \"electricity-supply_grid-source_residual_mix\",\n",
    "            \"data_version\": \"^6\"\n",
    "        },\n",
    "        \"parameters\": {\n",
    "            \"energy\": energy_kwh,\n",
    "            \"energy_unit\": \"kWh\"\n",
    "        }\n",
    "    }\n",
    "\n",
    "    # Make the POST request\n",
    "    response = requests.post(url, headers=headers, json=data)\n",
    "\n",
    "    # Check if the request was successful\n",
    "    if response.status_code == 200:\n",
    "        # Print the response JSON\n",
    "        return response.json()\n",
    "    else:\n",
    "        # Print the error\n",
    "        print(f\"Request failed with status code {response.status_code}\")\n",
    "        return response.text"
   ]
  },
  {
   "cell_type": "markdown",
   "metadata": {},
   "source": [
    "#### Update the Assistants API with these functions "
   ]
  },
  {
   "cell_type": "code",
   "execution_count": null,
   "metadata": {},
   "outputs": [],
   "source": [
    "# update the assistants api agent to have these new methods \n",
    "assistant = client.beta.assistants.update(\n",
    "  assistant_id=assistant.id,\n",
    "  instructions=instructions,\n",
    "  tools = [\n",
    "    {\"type\":\"file_search\"},\n",
    "    {\"type\":\"function\", \"function\": get_carbon_emission_calculator}\n",
    "    ]\n",
    ")"
   ]
  },
  {
   "cell_type": "markdown",
   "metadata": {},
   "source": [
    "## Machine Learning Model ( Functions Addition )"
   ]
  },
  {
   "cell_type": "code",
   "execution_count": null,
   "metadata": {},
   "outputs": [],
   "source": []
  },
  {
   "cell_type": "markdown",
   "metadata": {},
   "source": [
    "## Code Interpreter for Graph / Report Generator "
   ]
  },
  {
   "cell_type": "code",
   "execution_count": null,
   "metadata": {},
   "outputs": [],
   "source": []
  }
 ],
 "metadata": {
  "kernelspec": {
   "display_name": "Python 3",
   "language": "python",
   "name": "python3"
  },
  "language_info": {
   "codemirror_mode": {
    "name": "ipython",
    "version": 3
   },
   "file_extension": ".py",
   "mimetype": "text/x-python",
   "name": "python",
   "nbconvert_exporter": "python",
   "pygments_lexer": "ipython3",
   "version": "3.10.13"
  }
 },
 "nbformat": 4,
 "nbformat_minor": 2
}
