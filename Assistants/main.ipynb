{
 "cells": [
  {
   "cell_type": "markdown",
   "metadata": {},
   "source": [
    "# Notebook to manually run through the environmental chatbot"
   ]
  },
  {
   "cell_type": "code",
   "execution_count": 3,
   "metadata": {},
   "outputs": [],
   "source": [
    "#!pip install openai"
   ]
  },
  {
   "cell_type": "code",
   "execution_count": 4,
   "metadata": {},
   "outputs": [],
   "source": [
    "from openai import OpenAI\n",
    "import json \n",
    "import time "
   ]
  },
  {
   "cell_type": "markdown",
   "metadata": {},
   "source": [
    "## Upload the Files we found to Vector Store "
   ]
  },
  {
   "cell_type": "code",
   "execution_count": null,
   "metadata": {},
   "outputs": [],
   "source": [
    "# enter api key here\n"
   ]
  },
  {
   "cell_type": "code",
   "execution_count": 1,
   "metadata": {},
   "outputs": [
    {
     "name": "stdout",
     "output_type": "stream",
     "text": [
      "['', '../Data/EPRS_BRI(2023)747880_EN.pdf', '../Data/Daily News 08 _ 02 _ 2024.html', '../Data/How To Comply With EU’s CSRD Carbon Accounting Rules.html', '../Data/European Union _ Transport Policy.html', '../Data/Light-duty vehicles _ Transport Policy.html', '../Data/EU_ Light-duty_ GHG Emissions _ Transport Policy.html', '../Data/Corporate sustainability reporting - European Commission.html', '../Data/BMUV_ The EU regulations on reducing CO2 emissions from road vehicles _ Laws.html', '../Data/Reducing carbon emissions_ EU targets and policies - EU monitor.html', '../Data/CELEX_32022L2464_EN_TXT.pdf', '../Data/The European Union leads in climate change regulations _ Wolters Kluwer.html', '../Data/Efficiency and GHG standards _ Transport Policy.html']\n"
     ]
    },
    {
     "ename": "NameError",
     "evalue": "name 'client' is not defined",
     "output_type": "error",
     "traceback": [
      "\u001b[0;31m---------------------------------------------------------------------------\u001b[0m",
      "\u001b[0;31mNameError\u001b[0m                                 Traceback (most recent call last)",
      "Cell \u001b[0;32mIn[1], line 17\u001b[0m\n\u001b[1;32m     14\u001b[0m file_ids \u001b[38;5;241m=\u001b[39m []\n\u001b[1;32m     16\u001b[0m \u001b[38;5;28;01mfor\u001b[39;00m file_name \u001b[38;5;129;01min\u001b[39;00m file_paths: \n\u001b[0;32m---> 17\u001b[0m     file_data \u001b[38;5;241m=\u001b[39m \u001b[43mclient\u001b[49m\u001b[38;5;241m.\u001b[39mfiles\u001b[38;5;241m.\u001b[39mcreate( file\u001b[38;5;241m=\u001b[39m\u001b[38;5;28mopen\u001b[39m(file_name, \u001b[38;5;124m\"\u001b[39m\u001b[38;5;124mrb\u001b[39m\u001b[38;5;124m\"\u001b[39m), purpose\u001b[38;5;241m=\u001b[39m\u001b[38;5;124m'\u001b[39m\u001b[38;5;124massistants\u001b[39m\u001b[38;5;124m'\u001b[39m)\n\u001b[1;32m     19\u001b[0m     \u001b[38;5;66;03m# add file id to list of file ids\u001b[39;00m\n\u001b[1;32m     20\u001b[0m     file_ids\u001b[38;5;241m.\u001b[39mappend(file_data\u001b[38;5;241m.\u001b[39mid)\n",
      "\u001b[0;31mNameError\u001b[0m: name 'client' is not defined"
     ]
    }
   ],
   "source": [
    "# find the files to upload  \n",
    "file_paths = [\n",
    "    # Enter the file path here\n",
    "    \"\"\n",
    "]\n",
    "import os\n",
    "folder_path = \"../Data/\"\n",
    "\n",
    "items = os.listdir(folder_path)\n",
    "\n",
    "for i in items:\n",
    "    file_paths.append(os.path.join(folder_path, i))\n",
    "print(file_paths)\n",
    "file_ids = []\n",
    "\n",
    "for file_name in file_paths: \n",
    "    file_data = client.files.create( file=open(file_name, \"rb\"), purpose='assistants')\n",
    "\n",
    "    # add file id to list of file ids\n",
    "    file_ids.append(file_data.id)"
   ]
  },
  {
   "cell_type": "markdown",
   "metadata": {},
   "source": [
    "## Vectorize the File systems "
   ]
  },
  {
   "cell_type": "code",
   "execution_count": null,
   "metadata": {},
   "outputs": [],
   "source": [
    "vector_store = client.beta.vector_stores.create(name=\"travel-assistant-vectors\")\n",
    "\n",
    "# find the files to upload  \n",
    "file_paths = [\n",
    "    # Enter the file paths here\n",
    "]\n",
    "\n",
    "file_streams = [open(file_path, \"rb\") for file_path in file_paths]\n",
    "\n",
    "file_batch = client.beta.vector_stores.file_batches.upload_and_poll(\n",
    "    vector_store_id=vector_store.id,\n",
    "    files=file_streams\n",
    ")\n",
    "\n",
    "# Print the status and the file counts of the batch to see the result of this operation \n",
    "print(file_batch.status)"
   ]
  },
  {
   "cell_type": "markdown",
   "metadata": {},
   "source": [
    "# Create the OpenAI Assistants Chatbot "
   ]
  },
  {
   "cell_type": "code",
   "execution_count": 6,
   "metadata": {},
   "outputs": [],
   "source": [
    "instructions = \"You are an environment specialist. You can only talk about environmental issues, carbon emsissions, water waste, everything weather related. You can give advice. You are able to provide statistics about the environment\""
   ]
  },
  {
   "cell_type": "code",
   "execution_count": 7,
   "metadata": {},
   "outputs": [],
   "source": [
    "client = OpenAI(organization=\"\", api_key=\"\")\n",
    "\n",
    "assistant = client.beta.assistants.create(\n",
    "  name=\"The Environmental Specialists Chatbot\",\n",
    "  instructions=instructions,\n",
    "  model=\"gpt-3.5-turbo\"\n",
    ")\n",
    "\n",
    "assistant_id = assistant.id"
   ]
  },
  {
   "cell_type": "markdown",
   "metadata": {},
   "source": [
    "# Functions \n",
    "- Carbon emission calculator for businesses "
   ]
  },
  {
   "cell_type": "code",
   "execution_count": null,
   "metadata": {},
   "outputs": [],
   "source": [
    "function_get_carbon_emission_calculator =  {\n",
    "  \"name\": \"get_carbon_emission_percentage\",\n",
    "  \"description\": \"Determine the emission of carbon of a business\",\n",
    "  \"parameters\": {\n",
    "    \"type\": \"object\",\n",
    "    \"properties\": {\n",
    "      \"location\": {\n",
    "        \"type\": \"string\",\n",
    "        \"description\": \">>>> TODO what is the api request\"\n",
    "      },\n",
    "      \"unit\": {\n",
    "        \"type\": \"string\",\n",
    "        \"enum\": [\n",
    "          \"c\",\n",
    "          \"f\"\n",
    "        ]\n",
    "      }\n",
    "    },\n",
    "    \"required\": [\n",
    "      \"location\"\n",
    "    ]\n",
    "  }\n",
    "}"
   ]
  },
  {
   "cell_type": "markdown",
   "metadata": {},
   "source": [
    "### Handle the API Method "
   ]
  },
  {
   "cell_type": "code",
   "execution_count": 10,
   "metadata": {},
   "outputs": [],
   "source": [
    "#!pip install requests"
   ]
  },
  {
   "cell_type": "code",
   "execution_count": 1,
   "metadata": {},
   "outputs": [],
   "source": [
    "# api key \n",
    "import requests\n",
    "\n",
    "# Test1 api key\n",
    "CLIMATIQ_API_KEY = 'N32NP4ZAH84S7FJ3WS3RJM0PXFC1'\n"
   ]
  },
  {
   "cell_type": "code",
   "execution_count": null,
   "metadata": {},
   "outputs": [],
   "source": [
    "def get_carbon_emission_calculator(energy_kwh): \n",
    "\n",
    "    # Define the endpoint URL\n",
    "    url = 'https://api.climatiq.io/data/v1/estimate'\n",
    "\n",
    "    # Define the headers\n",
    "    headers = {\n",
    "        'Authorization': f'Bearer {CLIMATIQ_API_KEY}',\n",
    "        'Content-Type': 'application/json'\n",
    "    }\n",
    "\n",
    "    # Define the data payload\n",
    "    data = {\n",
    "        \"emission_factor\": {\n",
    "            \"activity_id\": \"electricity-supply_grid-source_residual_mix\",\n",
    "            \"data_version\": \"^6\"\n",
    "        },\n",
    "        \"parameters\": {\n",
    "            \"energy\": energy_kwh,\n",
    "            \"energy_unit\": \"kWh\"\n",
    "        }\n",
    "    }\n",
    "\n",
    "    # Make the POST request\n",
    "    response = requests.post(url, headers=headers, json=data)\n",
    "\n",
    "    # Check if the request was successful\n",
    "    if response.status_code == 200:\n",
    "        # Print the response JSON\n",
    "        return response.json()\n",
    "    else:\n",
    "        # Print the error\n",
    "        print(f\"Request failed with status code {response.status_code}\")\n",
    "        return response.text"
   ]
  },
  {
   "cell_type": "code",
   "execution_count": null,
   "metadata": {},
   "outputs": [],
   "source": [
    "def carbon_emission_freight(vehicle, source_location, destination_location, vehicle_weight, cargo_weight):\n",
    "        \n",
    "    # Define the endpoint URL\n",
    "    url = 'https://api.climatiq.io/freight/v1/intermodal'\n",
    "\n",
    "    # Define the headers\n",
    "    headers = {\n",
    "        'Authorization': f'Bearer {CLIMATIQ_API_KEY}',\n",
    "        'Content-Type': 'application/json'\n",
    "    }\n",
    "\n",
    "    # Define the data payload\n",
    "    data = {\n",
    "        \"route\": [\n",
    "            { \"location\": { \"query\": source_location } },\n",
    "            {\n",
    "                \"transport_mode\": \"road\",# Allowed values are air, sea, road, rail\n",
    "                \"leg_details\": {\n",
    "                    \"vehicle_type\": vehicle,\n",
    "                    \"vehicle_weight\": vehicle_weight\n",
    "                }\n",
    "            },\n",
    "            { \"location\": { \"query\": destination_location } }\n",
    "        ],\n",
    "        \"cargo\": {\n",
    "            \"weight\": int(cargo_weight),\n",
    "            \"weight_unit\": \"t\"\n",
    "        }\n",
    "    }\n",
    "\n",
    "    # Make the POST request\n",
    "    response = requests.post(url, headers=headers, json=data)\n",
    "\n",
    "    # Check if the request was successful\n",
    "    if response.status_code == 200:\n",
    "        # Print the response JSON\n",
    "        return str(response.json())\n",
    "    else:\n",
    "        # Print the error\n",
    "        print(f\"Request failed with status code {response.status_code}\")\n",
    "        return response.text\n"
   ]
  },
  {
   "cell_type": "markdown",
   "metadata": {},
   "source": [
    "#### Update the Assistants API with these functions "
   ]
  },
  {
   "cell_type": "code",
   "execution_count": null,
   "metadata": {},
   "outputs": [],
   "source": [
    "# update the assistants api agent to have these new methods \n",
    "assistant = client.beta.assistants.update(\n",
    "  assistant_id=assistant.id,\n",
    "  instructions=instructions,\n",
    "  tools = [\n",
    "    {\"type\":\"file_search\"},\n",
    "    {\"type\":\"function\", \"function\": get_carbon_emission_calculator}\n",
    "    ]\n",
    ")"
   ]
  },
  {
   "cell_type": "markdown",
   "metadata": {},
   "source": [
    "## Machine Learning Model ( Functions Addition )"
   ]
  },
  {
   "cell_type": "code",
   "execution_count": null,
   "metadata": {},
   "outputs": [],
   "source": []
  },
  {
   "cell_type": "markdown",
   "metadata": {},
   "source": [
    "## Code Interpreter for Graph / Report Generator "
   ]
  },
  {
   "cell_type": "code",
   "execution_count": null,
   "metadata": {},
   "outputs": [],
   "source": []
  }
 ],
 "metadata": {
  "kernelspec": {
   "display_name": "Python 3",
   "language": "python",
   "name": "python3"
  },
  "language_info": {
   "codemirror_mode": {
    "name": "ipython",
    "version": 3
   },
   "file_extension": ".py",
   "mimetype": "text/x-python",
   "name": "python",
   "nbconvert_exporter": "python",
   "pygments_lexer": "ipython3",
   "version": "3.10.13"
  }
 },
 "nbformat": 4,
 "nbformat_minor": 2
}
